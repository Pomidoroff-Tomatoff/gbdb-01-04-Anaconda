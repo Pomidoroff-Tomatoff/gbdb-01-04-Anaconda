{
 "cells": [
  {
   "cell_type": "markdown",
   "id": "299bae53",
   "metadata": {},
   "source": [
    "GB / Олег Гладкий / https://gb.ru/users/3837199 \n",
    "\n",
    "Библиотеки Python для Data Science: https://gb.ru/lessons/155328/homework\n",
    "\n",
    "# Урок 1\n",
    "## Вычисления с помощью Numpy\n",
    "### Задание 1-n\n",
    "Задание массива (2×5) и вычисление среднего значения для каждого столбца"
   ]
  },
  {
   "cell_type": "code",
   "execution_count": 1,
   "id": "2c9d97c6",
   "metadata": {},
   "outputs": [],
   "source": [
    "import numpy as np"
   ]
  },
  {
   "cell_type": "code",
   "execution_count": 2,
   "id": "4c5be2df",
   "metadata": {},
   "outputs": [],
   "source": [
    "a = (np.array([[1, 2, 3, 3, 1], [6, 8, 11, 10, 7]])).transpose()"
   ]
  },
  {
   "cell_type": "code",
   "execution_count": 3,
   "id": "6d0e3bbb",
   "metadata": {},
   "outputs": [
    {
     "data": {
      "text/plain": [
       "array([[ 1,  6],\n",
       "       [ 2,  8],\n",
       "       [ 3, 11],\n",
       "       [ 3, 10],\n",
       "       [ 1,  7]])"
      ]
     },
     "execution_count": 3,
     "metadata": {},
     "output_type": "execute_result"
    }
   ],
   "source": [
    "a"
   ]
  },
  {
   "cell_type": "code",
   "execution_count": 4,
   "id": "b9904ded",
   "metadata": {},
   "outputs": [],
   "source": [
    "mean_a = a.mean(axis=0)"
   ]
  },
  {
   "cell_type": "code",
   "execution_count": 5,
   "id": "6c180983",
   "metadata": {},
   "outputs": [
    {
     "data": {
      "text/plain": [
       "array([2. , 8.4])"
      ]
     },
     "execution_count": 5,
     "metadata": {},
     "output_type": "execute_result"
    }
   ],
   "source": [
    "mean_a"
   ]
  },
  {
   "cell_type": "markdown",
   "id": "de33bab1",
   "metadata": {},
   "source": [
    "### Задание 2-n\n",
    "Вычисление массива, \"отцентрированного\" по среднему значению признака (столбца)."
   ]
  },
  {
   "cell_type": "code",
   "execution_count": 6,
   "id": "62ab062b",
   "metadata": {},
   "outputs": [
    {
     "data": {
      "text/plain": [
       "array([[-1. , -2.4],\n",
       "       [ 0. , -0.4],\n",
       "       [ 1. ,  2.6],\n",
       "       [ 1. ,  1.6],\n",
       "       [-1. , -1.4]])"
      ]
     },
     "execution_count": 6,
     "metadata": {},
     "output_type": "execute_result"
    }
   ],
   "source": [
    "a_centered = a - mean_a\n",
    "a_centered"
   ]
  },
  {
   "cell_type": "markdown",
   "id": "4ae6a919",
   "metadata": {},
   "source": [
    "### Задание 3-n\n",
    "Скалярное произведение столбцов массива a_centered. Вычисление ковариации двух признаков (столбцов)."
   ]
  },
  {
   "cell_type": "code",
   "execution_count": 7,
   "id": "629c293d",
   "metadata": {},
   "outputs": [
    {
     "data": {
      "text/plain": [
       "8.0"
      ]
     },
     "execution_count": 7,
     "metadata": {},
     "output_type": "execute_result"
    }
   ],
   "source": [
    "a_centered_sp = (a_centered[:, 0]).dot(a_centered[:, 1])\n",
    "a_centered_sp"
   ]
  },
  {
   "cell_type": "code",
   "execution_count": 8,
   "id": "19064637",
   "metadata": {},
   "outputs": [
    {
     "data": {
      "text/plain": [
       "2.0"
      ]
     },
     "execution_count": 8,
     "metadata": {},
     "output_type": "execute_result"
    }
   ],
   "source": [
    "covar = a_centered_sp / (a_centered.shape[0] - 1)\n",
    "covar"
   ]
  },
  {
   "cell_type": "markdown",
   "id": "47b45354",
   "metadata": {},
   "source": [
    "### Задание 4-n\n",
    "Вычисление ковариационной матрицы."
   ]
  },
  {
   "cell_type": "code",
   "execution_count": 9,
   "id": "25ae0734",
   "metadata": {},
   "outputs": [
    {
     "data": {
      "text/plain": [
       "array([[1. , 2. ],\n",
       "       [2. , 4.3]])"
      ]
     },
     "execution_count": 9,
     "metadata": {},
     "output_type": "execute_result"
    }
   ],
   "source": [
    "covar_mat = np.cov(a.transpose())\n",
    "covar_mat"
   ]
  },
  {
   "cell_type": "code",
   "execution_count": 10,
   "id": "ad9d2271",
   "metadata": {},
   "outputs": [
    {
     "name": "stdout",
     "output_type": "stream",
     "text": [
      "Ковариация признаков: 2.0\n"
     ]
    }
   ],
   "source": [
    "print(\"Ковариация признаков: {}\".format(covar_mat[1, 0]))"
   ]
  },
  {
   "cell_type": "markdown",
   "id": "7770cd07",
   "metadata": {},
   "source": [
    "## Вычисления с помощью Pundas\n",
    "\n"
   ]
  },
  {
   "cell_type": "markdown",
   "id": "ef7e4a55",
   "metadata": {},
   "source": [
    "### Задание 1-p\n",
    "Создание датафрейма book"
   ]
  },
  {
   "cell_type": "code",
   "execution_count": 11,
   "id": "8ce3cdc3",
   "metadata": {},
   "outputs": [],
   "source": [
    "import pandas as pd"
   ]
  }
 ],
 "metadata": {
  "kernelspec": {
   "display_name": "Python 3",
   "language": "python",
   "name": "python3"
  },
  "language_info": {
   "codemirror_mode": {
    "name": "ipython",
    "version": 3
   },
   "file_extension": ".py",
   "mimetype": "text/x-python",
   "name": "python",
   "nbconvert_exporter": "python",
   "pygments_lexer": "ipython3",
   "version": "3.8.8"
  }
 },
 "nbformat": 4,
 "nbformat_minor": 5
}
